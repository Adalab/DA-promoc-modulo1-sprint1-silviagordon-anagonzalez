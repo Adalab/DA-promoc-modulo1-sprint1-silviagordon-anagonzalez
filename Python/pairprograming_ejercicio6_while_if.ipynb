{
 "cells": [
  {
   "cell_type": "markdown",
   "metadata": {},
   "source": [
    "## Pair Programming Sentencias de Control"
   ]
  },
  {
   "cell_type": "markdown",
   "metadata": {},
   "source": [
    "A lo largo de este pair programming os presentamos una serie de ejercicios que los tendréis que resolver usando sentencias if, if ... else, if ... elif ... else o while.\n",
    "\n",
    "En la escuela donde trabajamos tienen el siguiente sistema de notas:"
   ]
  },
  {
   "cell_type": "markdown",
   "metadata": {},
   "source": [
    "- Below 25 - F\n",
    "- 25 to 45 - E\n",
    "- 45 to 50 - D\n",
    "- 50 to 60 - C\n",
    "- 60 to 80 - B\n",
    "- Above 80 - A"
   ]
  },
  {
   "cell_type": "markdown",
   "metadata": {},
   "source": [
    "El objetivo de este ejercicio es que le preguntéis al usuario por una nota (numérica) y nosotros le devolvamos la nota con la letra que le corresponde.\n",
    "\n",
    "Cread tres inputs donde a cada uno de ellos le preguntéis su edad, el objetivo del ejercicio es determinar quien es el más viejo y el más joven."
   ]
  },
  {
   "cell_type": "code",
   "execution_count": 21,
   "metadata": {},
   "outputs": [],
   "source": [
    "usuario1=int(input('cuantos años tienes'))"
   ]
  },
  {
   "cell_type": "code",
   "execution_count": 22,
   "metadata": {},
   "outputs": [],
   "source": [
    "usuario2=int(input('cuantos años tienes'))"
   ]
  },
  {
   "cell_type": "code",
   "execution_count": 23,
   "metadata": {},
   "outputs": [],
   "source": [
    "usuario3=int(input('cuantos años tienes'))"
   ]
  },
  {
   "cell_type": "code",
   "execution_count": 24,
   "metadata": {},
   "outputs": [
    {
     "name": "stdout",
     "output_type": "stream",
     "text": [
      "tu nota es F\n"
     ]
    }
   ],
   "source": [
    "if usuario1<=24:\n",
    "    print('tu nota es F')\n",
    "elif usuario1>=25 and usuario1<45:\n",
    "    print('tu nota es E')\n",
    "elif usuario1>=45 and usuario1<50:\n",
    "    print('tu nota es D')\n",
    "elif usuario1>=50 and usuario1<60:\n",
    "    print('tu nota es C')\n",
    "elif usuario1>=60 and usuario1<80:\n",
    "    print('tu nota es B')\n",
    "else:\n",
    "    print('tu nota es la A')"
   ]
  },
  {
   "cell_type": "code",
   "execution_count": 25,
   "metadata": {},
   "outputs": [
    {
     "name": "stdout",
     "output_type": "stream",
     "text": [
      "tu nota es F\n"
     ]
    }
   ],
   "source": [
    "if usuario2<=24:\n",
    "    print('tu nota es F')\n",
    "elif usuario2>=25 and usuario2<45:\n",
    "    print('tu nota es E')\n",
    "elif usuario2>=45 and usuario2<50:\n",
    "    print('tu nota es D')\n",
    "elif usuario2>=50 and usuario2<60:\n",
    "    print('tu nota es C')\n",
    "elif usuario2>=60 and usuario2<80:\n",
    "    print('tu nota es B')\n",
    "else:\n",
    "    print('tu nota es la A')"
   ]
  },
  {
   "cell_type": "code",
   "execution_count": 26,
   "metadata": {},
   "outputs": [
    {
     "name": "stdout",
     "output_type": "stream",
     "text": [
      "tu nota es E\n"
     ]
    }
   ],
   "source": [
    "if usuario3<=24:\n",
    "    print('tu nota es F')\n",
    "elif usuario3>=25 and usuario3<45:\n",
    "    print('tu nota es E')\n",
    "elif usuario3>=45 and usuario3<50:\n",
    "    print('tu nota es D')\n",
    "elif usuario3>=50 and usuario3<60:\n",
    "    print('tu nota es C')\n",
    "elif usuario3>=60 and usuario3<80:\n",
    "    print('tu nota es B')\n",
    "else:\n",
    "    print('tu nota es la A')"
   ]
  },
  {
   "cell_type": "code",
   "execution_count": 27,
   "metadata": {},
   "outputs": [],
   "source": [
    "if usuario1<usuario2 and usuario1<usuario3:\n",
    " print('usuario1 es el mas joven')\n",
    "elif usuario2<usuario1 and usuario2<usuario3:\n",
    " print('usuario2 es el mas joven')\n",
    "elif usuario3<usuario2 and usuario3<usuario1:\n",
    " print('usuario3 es el mas joven')"
   ]
  },
  {
   "cell_type": "code",
   "execution_count": 28,
   "metadata": {},
   "outputs": [
    {
     "name": "stdout",
     "output_type": "stream",
     "text": [
      "usuario3 es el mas viejo\n"
     ]
    }
   ],
   "source": [
    "if usuario1>usuario2 and usuario1>usuario3:\n",
    " print('usuario1 es el mas viejo')\n",
    "elif usuario2>usuario1 and usuario2>usuario3:\n",
    " print('usuario2 es el mas viejo')\n",
    "elif usuario3>usuario2 and usuario3>usuario1:\n",
    " print('usuario3 es el mas viejo')"
   ]
  },
  {
   "cell_type": "markdown",
   "metadata": {},
   "source": [
    "Escribid un programa que pregunte el nombre del usuario a través de la función input(). Si el nombre es \"Bond\" haced que imprima \"Bienvenido a bordo de 007\". En caso contrario haced que imprima \"Buenos días NOMBRE\". (Reemplace NOMBRE por el nombre del usuario)."
   ]
  },
  {
   "cell_type": "code",
   "execution_count": 29,
   "metadata": {},
   "outputs": [
    {
     "name": "stdout",
     "output_type": "stream",
     "text": [
      "Buenos dias ana\n"
     ]
    }
   ],
   "source": [
    "nombre=input('Dime tu nombre')\n",
    "if nombre=='Bond':\n",
    "    print('Bienvenido a bordo del 007')\n",
    "else:\n",
    "    print('Buenos dias',nombre)"
   ]
  },
  {
   "cell_type": "markdown",
   "metadata": {},
   "source": [
    "arbol es un diccionario que muestra el número de árboles de países por kilómetro cuadrado para países aleatorios con un número considerable de población. Crea una lista llamada \"masarboles\" que contenga el nombre de los países con más de 40.000 árboles por kilómetro cuadrado."
   ]
  },
  {
   "cell_type": "code",
   "execution_count": 30,
   "metadata": {},
   "outputs": [],
   "source": [
    "tree = {\"Taiwan\": 69593,\n",
    "        \"Japan\": 49894, \n",
    "        \"Russia\": 41396, \n",
    "        \"Canada\": 36388, \n",
    "        \"Bulgaria\": 24987}"
   ]
  },
  {
   "cell_type": "code",
   "execution_count": 31,
   "metadata": {},
   "outputs": [],
   "source": [
    "masarboles=[]"
   ]
  },
  {
   "cell_type": "code",
   "execution_count": 32,
   "metadata": {},
   "outputs": [
    {
     "name": "stdout",
     "output_type": "stream",
     "text": [
      "['Taiwan']\n",
      "['Taiwan', 'Japan']\n",
      "['Taiwan', 'Japan', 'Russia']\n"
     ]
    }
   ],
   "source": [
    "if tree['Taiwan']>40000:\n",
    "    masarboles.append('Taiwan')\n",
    "    print(masarboles)\n",
    "if tree['Japan']>40000:\n",
    "    masarboles.append('Japan')\n",
    "    print(masarboles)\n",
    "if tree['Russia']>40000:\n",
    "    masarboles.append('Russia')\n",
    "    print(masarboles)\n",
    "if tree['Canada']>40000:\n",
    "    masarboles.append('Canada')\n",
    "    print(masarboles)\n",
    "if tree['Bulgaria']>40000:\n",
    "    masarboles.append('Bulgaria')\n",
    "    print(masarboles)"
   ]
  },
  {
   "cell_type": "markdown",
   "metadata": {},
   "source": [
    "Los alumnos de un curso se han dividido en dos grupos A y B de acuerdo al sexo y el nombre. El grupo A esta formado por las mujeres con un nombre anterior a la M y los hombres con un nombre posterior a la N y el grupo B por el resto. Escribid un programa que pregunte al usuario su nombre y sexo, y muestre por pantalla el grupo que le corresponde."
   ]
  },
  {
   "cell_type": "code",
   "execution_count": 33,
   "metadata": {},
   "outputs": [],
   "source": [
    "nombre_grupo=input('dime tu nombre')"
   ]
  },
  {
   "cell_type": "code",
   "execution_count": 34,
   "metadata": {},
   "outputs": [],
   "source": [
    "sexo=input('dime si eres hombre o mujer')"
   ]
  },
  {
   "cell_type": "code",
   "execution_count": 35,
   "metadata": {},
   "outputs": [
    {
     "name": "stdout",
     "output_type": "stream",
     "text": [
      "grupo A\n"
     ]
    }
   ],
   "source": [
    "if sexo=='mujer':\n",
    "    if nombre_grupo<'m':\n",
    "        print('grupo A')\n",
    "    else:\n",
    "        print('grupo B')\n",
    "else:\n",
    "    if nombre_grupo>'n':\n",
    "        print('grupo A')\n",
    "    else:\n",
    "        print('grupo B')"
   ]
  },
  {
   "cell_type": "markdown",
   "metadata": {},
   "source": [
    "Escribid un programa que:\n",
    "- Dada la variable z con valor 0, es decir z = 0.\n",
    "- Mientras que el valor de z sea menor que 3:"
   ]
  },
  {
   "cell_type": "markdown",
   "metadata": {},
   "source": [
    "/ Si el valor de z es igual a 0:  \n",
    "a-Printead el valor de z\n",
    "b-Almancenad el valor en una lista auxiliar\n",
    "c-Sumadle 1 al valor de z"
   ]
  },
  {
   "cell_type": "markdown",
   "metadata": {},
   "source": [
    "/ Si el valor de z es igual a 1:\n",
    "a-Printead el valor de z\n",
    "b-Almancenad el valor en una lista auxiliar\n",
    "c-Sumadle 1 al valor de z"
   ]
  },
  {
   "cell_type": "markdown",
   "metadata": {},
   "source": [
    "/ En caso de que no se cumplan las condiciones anteriores:\n",
    "a-Printead el valor de z\n",
    "b-Sumadle 1 al valor de z"
   ]
  },
  {
   "cell_type": "code",
   "execution_count": 36,
   "metadata": {},
   "outputs": [
    {
     "name": "stdout",
     "output_type": "stream",
     "text": [
      "0\n",
      "1\n",
      "2\n"
     ]
    }
   ],
   "source": [
    "z=0\n",
    "lista_z=[]\n",
    "while z<3:\n",
    "    if z==0:\n",
    "        print(z)\n",
    "        lista_z.append(z)\n",
    "        z+=1\n",
    "    elif z==1:\n",
    "        print(z)\n",
    "        lista_z.append(z)\n",
    "        z+=1\n",
    "    else:\n",
    "        print(z)\n",
    "        z+=1\n",
    "\n"
   ]
  },
  {
   "cell_type": "markdown",
   "metadata": {},
   "source": [
    "El objetivo de este ejercicio es añadir elementos a una lista utilizando el bucle while:"
   ]
  },
  {
   "cell_type": "markdown",
   "metadata": {},
   "source": [
    "-Cread una lista vacía\n",
    "-Cread una variable cuyo valor sea 0"
   ]
  },
  {
   "cell_type": "markdown",
   "metadata": {},
   "source": [
    "Mientras que la longitud de la lista creada en el primer paso sea menor que 4:\n",
    "- Apendead el valor de la variable creada en el paso 2\n",
    "- Sumad 1 a la variable creada en el paso 2"
   ]
  },
  {
   "cell_type": "markdown",
   "metadata": {},
   "source": [
    "Por último, printead los valores que hemos añadido en la lista vacía (ya no lo estaría)"
   ]
  },
  {
   "cell_type": "code",
   "execution_count": 37,
   "metadata": {},
   "outputs": [
    {
     "name": "stdout",
     "output_type": "stream",
     "text": [
      "[0]\n",
      "[0, 1]\n",
      "[0, 1, 2]\n",
      "[0, 1, 2, 3]\n"
     ]
    }
   ],
   "source": [
    "lista_vacia=[]\n",
    "e=0\n",
    "while len(lista_vacia) <4:\n",
    "        lista_vacia.append(e)\n",
    "        e+=1\n",
    "        print(lista_vacia)"
   ]
  },
  {
   "cell_type": "markdown",
   "metadata": {},
   "source": [
    "El objetivo de este ejercicio es encontrar la suma de números en una lista usando el bucle while:\n",
    "-Cread una variable cuyo valor sea 0, llamadla \"i\"\n",
    "-Cread una lista que contenga los siguientes números: 23,45,12,10,25\n",
    "-Cread una variable cuyo valor sea 0, llamadla \"suma\""
   ]
  },
  {
   "cell_type": "markdown",
   "metadata": {},
   "source": [
    "Mientras que el valor de la variable \"i\" sea menor que la longitud de la lista:\n",
    "-Sumad elemento a elemento los valores de la lista. Es decir, el primero con el segundo; el resultado de la suma anterior más el tercer número, etc\n",
    "-Sumad 1 a la variable \"i\" por cada iteración por el bucle while\n",
    "El resultado esperado es 115."
   ]
  },
  {
   "cell_type": "code",
   "execution_count": 38,
   "metadata": {},
   "outputs": [
    {
     "name": "stdout",
     "output_type": "stream",
     "text": [
      "115\n"
     ]
    }
   ],
   "source": [
    "i=0\n",
    "lista_siguiente=[23,45,12,10,25]\n",
    "suma=0\n",
    "while i<len(lista_siguiente):\n",
    "    suma=lista_siguiente[0]+lista_siguiente[1]\n",
    "    suma+=lista_siguiente[2]\n",
    "    suma+=lista_siguiente[3]\n",
    "    suma+=lista_siguiente[4]\n",
    "    i+=1\n",
    "print(suma)\n"
   ]
  },
  {
   "cell_type": "markdown",
   "metadata": {},
   "source": [
    "Escribid un programa para una empresa que tiene salas de juegos para todas las edades y quiere calcular de forma automática el precio que debe cobrar a sus clientes por entrar. El programa debe preguntar al usuario la edad del cliente y mostrar el precio de la entrada. Si el cliente es menor de 4 años puede entrar gratis, si tiene entre 4 y 18 años debe pagar 5€ y si es mayor de 18 años, 10€."
   ]
  },
  {
   "cell_type": "code",
   "execution_count": 39,
   "metadata": {},
   "outputs": [],
   "source": [
    "edad=int(input('¿cuantos años tienes?'))"
   ]
  },
  {
   "cell_type": "code",
   "execution_count": 40,
   "metadata": {},
   "outputs": [
    {
     "name": "stdout",
     "output_type": "stream",
     "text": [
      "Debes pagar 10 €\n"
     ]
    }
   ],
   "source": [
    "if edad <4:\n",
    "    print('Puedes entrar gratis')\n",
    "elif edad>=4 and edad<18:\n",
    "    print('Debes pagar 5€')\n",
    "else:\n",
    "    print('Debes pagar 10 €')"
   ]
  },
  {
   "cell_type": "markdown",
   "metadata": {},
   "source": [
    "La pizzería Bella Napoli ofrece pizzas vegetarianas y no vegetarianas a sus clientes. Los ingredientes para cada tipo de pizza aparecen a continuación.\n",
    "-Ingredientes vegetarianos: Pimiento y tofu.\n",
    "-Ingredientes no vegetarianos: Peperoni, Jamón y Salmón.\n",
    "Escribid un programa que pregunte al usuario si quiere una pizza vegetariana o no, y en función de su respuesta le muestre un menú con los ingredientes disponibles para que elija. Solo se puede eligir un ingrediente además de la mozzarella y el tomate que están en todas la pizzas. Al final se debe mostrar por pantalla si la pizza elegida es vegetariana o no y todos los ingredientes que lleva.\n"
   ]
  },
  {
   "cell_type": "code",
   "execution_count": 41,
   "metadata": {},
   "outputs": [
    {
     "name": "stdout",
     "output_type": "stream",
     "text": [
      "Has elegido una pizza vegetariana con ['tomate', ',mozzarella', 'y', 'tofu']\n"
     ]
    }
   ],
   "source": [
    "tipo_pizza=input('Elige una pizza vegetariana o no vegetariana')\n",
    "ing=['tomate',',''mozzarella','y']\n",
    "if tipo_pizza=='vegetariana':\n",
    "    ing_veg=input('prefieres pimiento o tofu')\n",
    "    if ing_veg=='pimiento':\n",
    "        ing.append('pimiento')\n",
    "    elif ing_veg=='tofu':\n",
    "        ing.append('tofu')\n",
    "else:\n",
    "    ing_carne=input('prefieres peperoni, jamón o salmón')\n",
    "    if ing_carne=='peperoni':\n",
    "        ing.append('peperoni')\n",
    "    elif ing_carne=='jamón':\n",
    "        ing.append('jamón')\n",
    "    elif ing_carne=='salmón':\n",
    "        ing.append('salmón')\n",
    "print('Has elegido una pizza', tipo_pizza, 'con',ing)\n",
    "\n",
    "    \n"
   ]
  }
 ],
 "metadata": {
  "kernelspec": {
   "display_name": "Python 3.10.8 64-bit (microsoft store)",
   "language": "python",
   "name": "python3"
  },
  "language_info": {
   "codemirror_mode": {
    "name": "ipython",
    "version": 3
   },
   "file_extension": ".py",
   "mimetype": "text/x-python",
   "name": "python",
   "nbconvert_exporter": "python",
   "pygments_lexer": "ipython3",
   "version": "3.10.8"
  },
  "orig_nbformat": 4,
  "vscode": {
   "interpreter": {
    "hash": "db5cedc7e114859ad608ddd0e9acad792dd59d9153581ae5b253a51e1afe4cda"
   }
  }
 },
 "nbformat": 4,
 "nbformat_minor": 2
}
